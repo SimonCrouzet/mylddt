{
 "cells": [
  {
   "cell_type": "code",
   "execution_count": 1,
   "metadata": {},
   "outputs": [],
   "source": [
    "import csv, json, glob\n",
    "import numpy as np"
   ]
  },
  {
   "cell_type": "markdown",
   "metadata": {},
   "source": [
    "### Read atomic types"
   ]
  },
  {
   "cell_type": "code",
   "execution_count": 2,
   "metadata": {},
   "outputs": [
    {
     "name": "stdout",
     "output_type": "stream",
     "text": [
      "Number of distinct atom types:  20\n",
      "Mapping between atom names and types:  {'ALA_CA': 0, 'ALA_CB': 1, 'ALA_C': 2, 'ALA_N': 3, 'ALA_O': 4, 'ARG_CA': 0, 'ARG_CB': 5, 'ARG_C': 2, 'ARG_CD': 5, 'ARG_CG': 5, 'ARG_CZ': 6, 'ARG_NE': 7, 'ARG_NH1': 7, 'ARG_NH2': 7, 'ARG_N': 3, 'ARG_O': 4, 'ASN_CA': 0, 'ASN_CB': 5, 'ASN_C': 2, 'ASN_CG': 8, 'ASN_ND2': 9, 'ASN_N': 3, 'ASN_OD1': 10, 'ASN_O': 4, 'ASP_CA': 0, 'ASP_CB': 5, 'ASP_C': 2, 'ASP_CG': 11, 'ASP_N': 3, 'ASP_OD1': 12, 'ASP_OD2': 12, 'ASP_O': 4, 'CYS_CA': 0, 'CYS_CB': 5, 'CYS_C': 2, 'CYS_N': 3, 'CYS_O': 4, 'CYS_SG': 13, 'GLN_CA': 0, 'GLN_CB': 5, 'GLN_C': 2, 'GLN_CD': 8, 'GLN_CG': 5, 'GLN_NE2': 9, 'GLN_N': 3, 'GLN_OE1': 10, 'GLN_O': 4, 'GLU_CA': 0, 'GLU_CB': 5, 'GLU_C': 2, 'GLU_CD': 11, 'GLU_CG': 5, 'GLU_N': 3, 'GLU_OE1': 12, 'GLU_OE2': 12, 'GLU_O': 4, 'GLY_CA': 0, 'GLY_C': 2, 'GLY_N': 3, 'GLY_O': 4, 'HIS_CA': 0, 'HIS_CB': 5, 'HIS_C': 2, 'HIS_CD2': 6, 'HIS_CE1': 6, 'HIS_CG': 6, 'HIS_ND1': 14, 'HIS_NE2': 15, 'HIS_N': 3, 'HIS_O': 4, 'ILE_CA': 0, 'ILE_CB': 16, 'ILE_C': 2, 'ILE_CD1': 1, 'ILE_CG1': 5, 'ILE_CG2': 1, 'ILE_N': 3, 'ILE_O': 4, 'LEU_CA': 0, 'LEU_CB': 5, 'LEU_C': 2, 'LEU_CD1': 1, 'LEU_CD2': 1, 'LEU_CG': 16, 'LEU_N': 3, 'LEU_O': 4, 'LYS_CA': 0, 'LYS_CB': 5, 'LYS_C': 2, 'LYS_CD': 5, 'LYS_CE': 5, 'LYS_CG': 5, 'LYS_N': 3, 'LYS_NZ': 17, 'LYS_O': 4, 'MET_CA': 0, 'MET_CB': 5, 'MET_C': 2, 'MET_CE': 1, 'MET_CG': 5, 'MET_N': 3, 'MET_O': 4, 'MET_SD': 13, 'PHE_CA': 0, 'PHE_CB': 5, 'PHE_C': 2, 'PHE_CD1': 6, 'PHE_CD2': 6, 'PHE_CE1': 6, 'PHE_CE2': 6, 'PHE_CG': 6, 'PHE_CZ': 6, 'PHE_N': 3, 'PHE_O': 4, 'PRO_CA': 0, 'PRO_CB': 5, 'PRO_C': 2, 'PRO_CD': 5, 'PRO_CG': 5, 'PRO_N': 18, 'PRO_O': 4, 'SER_CA': 0, 'SER_CB': 5, 'SER_C': 2, 'SER_N': 3, 'SER_OG': 19, 'SER_O': 4, 'THR_CA': 0, 'THR_CB': 16, 'THR_C': 2, 'THR_CG2': 1, 'THR_N': 3, 'THR_OG1': 19, 'THR_O': 4, 'TRP_CA': 0, 'TRP_CB': 5, 'TRP_C': 2, 'TRP_CD1': 6, 'TRP_CD2': 6, 'TRP_CE2': 6, 'TRP_CE3': 6, 'TRP_CG': 6, 'TRP_CH2': 6, 'TRP_CZ2': 6, 'TRP_CZ3': 6, 'TRP_NE1': 15, 'TRP_N': 3, 'TRP_O': 4, 'TYR_CA': 0, 'TYR_CB': 5, 'TYR_C': 2, 'TYR_CD1': 6, 'TYR_CD2': 6, 'TYR_CE1': 6, 'TYR_CE2': 6, 'TYR_CG': 6, 'TYR_CZ': 6, 'TYR_N': 3, 'TYR_OH': 19, 'TYR_O': 4, 'VAL_CA': 0, 'VAL_CB': 16, 'VAL_C': 2, 'VAL_CG1': 1, 'VAL_CG2': 1, 'VAL_N': 3, 'VAL_O': 4}\n"
     ]
    }
   ],
   "source": [
    "tmap = {}\n",
    "types = {}\n",
    "ntypes = 0\n",
    "with open('data/groups20.txt', 'r') as f:\n",
    "    data = csv.reader(f, delimiter=' ')\n",
    "    for line in data:\n",
    "        if line[1] in types:\n",
    "            tmap[line[0]] = types[line[1]]\n",
    "        else:\n",
    "            types[line[1]] = ntypes\n",
    "            tmap[line[0]] = ntypes\n",
    "            ntypes += 1\n",
    "\n",
    "print(\"Number of distinct atom types: \", ntypes)\n",
    "\n",
    "print(\"Mapping between atom names and types: \", tmap)\n"
   ]
  },
  {
   "cell_type": "markdown",
   "metadata": {},
   "source": [
    "### Read & process JSON"
   ]
  },
  {
   "cell_type": "code",
   "execution_count": 3,
   "metadata": {},
   "outputs": [],
   "source": [
    "# max distance between atoms\n",
    "DMAX = 8.0\n",
    "\n",
    "with open(\"example/tag0001.al.json\") as jsonfile:\n",
    " \n",
    "    data = json.load(jsonfile)\n",
    "\n",
    "    # convert atom names to types (i.e.features)\n",
    "    data['nodes'] = np.array([tmap[a] for a in data['atoms']], dtype=np.int16)\n",
    "\n",
    "    # clean contacts based on DMAX\n",
    "    data['edges'] = np.array([cont[:2] for cont in data['contacts'] if cont[2] < DMAX], dtype=np.int16)\n",
    "    data['distances'] = np.array([cont[2] for cont in data['contacts'] if cont[2] < DMAX], dtype=np.float32)\n",
    "\n",
    "    # for scores, use 2nd column only - LDDT(TS)\n",
    "    data['scores'] = np.array(data['scores'], dtype=np.float32)[:,1]\n",
    "\n",
    "    # skip unused data\n",
    "    del data['atoms']\n",
    "    del data['bonds']\n",
    "    del data['contacts']"
   ]
  },
  {
   "cell_type": "code",
   "execution_count": 4,
   "metadata": {},
   "outputs": [
    {
     "data": {
      "text/plain": [
       "array([ 3,  0,  2, ..., 16, 19,  1], dtype=int16)"
      ]
     },
     "execution_count": 4,
     "metadata": {},
     "output_type": "execute_result"
    }
   ],
   "source": [
    "data['nodes']"
   ]
  },
  {
   "cell_type": "code",
   "execution_count": 5,
   "metadata": {},
   "outputs": [
    {
     "data": {
      "text/plain": [
       "array([0.77667, 0.81173, 0.85119, ..., 0.63717, 0.49464, 0.60488],\n",
       "      dtype=float32)"
      ]
     },
     "execution_count": 5,
     "metadata": {},
     "output_type": "execute_result"
    }
   ],
   "source": [
    "data['scores']"
   ]
  },
  {
   "cell_type": "code",
   "execution_count": 6,
   "metadata": {},
   "outputs": [
    {
     "data": {
      "text/plain": [
       "array([[   0,   29],\n",
       "       [   0,   28],\n",
       "       [   0,    9],\n",
       "       ...,\n",
       "       [1015, 1017],\n",
       "       [1015, 1016],\n",
       "       [1016, 1017]], dtype=int16)"
      ]
     },
     "execution_count": 6,
     "metadata": {},
     "output_type": "execute_result"
    }
   ],
   "source": [
    "data['edges']"
   ]
  },
  {
   "cell_type": "code",
   "execution_count": 7,
   "metadata": {},
   "outputs": [
    {
     "data": {
      "text/plain": [
       "array([7.294, 7.579, 6.492, ..., 1.509, 1.432, 2.402], dtype=float32)"
      ]
     },
     "execution_count": 7,
     "metadata": {},
     "output_type": "execute_result"
    }
   ],
   "source": [
    "data['distances']"
   ]
  },
  {
   "cell_type": "code",
   "execution_count": null,
   "metadata": {},
   "outputs": [],
   "source": []
  }
 ],
 "metadata": {
  "kernelspec": {
   "display_name": "Python 3",
   "language": "python",
   "name": "python3"
  },
  "language_info": {
   "codemirror_mode": {
    "name": "ipython",
    "version": 3
   },
   "file_extension": ".py",
   "mimetype": "text/x-python",
   "name": "python",
   "nbconvert_exporter": "python",
   "pygments_lexer": "ipython3",
   "version": "3.6.5"
  }
 },
 "nbformat": 4,
 "nbformat_minor": 2
}
